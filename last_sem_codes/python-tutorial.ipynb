{
 "cells": [
  {
   "cell_type": "markdown",
   "metadata": {
    "id": "h8YsjQaULp7O"
   },
   "source": [
    "# Python for Big Data Processing (Tutorial )\n",
    "\n",
    "Python coding styles:\n",
    " 1. Procedural Programming\n",
    " 2. Object-oriented Programming\n",
    " 3. Functional Programming\n",
    "\n",
    "\n",
    "\n"
   ]
  },
  {
   "cell_type": "markdown",
   "metadata": {
    "id": "3IbdnJlqQEC4"
   },
   "source": [
    "### Procedural Programming\n",
    "\n",
    "- Group instructions into procedures\n",
    "- A program is set of step-by-step instructions and easy\n",
    "- This coding style favors iteration, sequencing and selection."
   ]
  },
  {
   "cell_type": "code",
   "execution_count": 22,
   "metadata": {
    "colab": {
     "base_uri": "https://localhost:8080/"
    },
    "executionInfo": {
     "elapsed": 1678,
     "status": "ok",
     "timestamp": 1618945564871,
     "user": {
      "displayName": "Sudeshna Das",
      "photoUrl": "https://lh6.googleusercontent.com/-alUhf4LVS7Y/AAAAAAAAAAI/AAAAAAAAe9U/XIIyA_juPMg/s64/photo.jpg",
      "userId": "00978114334044208284"
     },
     "user_tz": -330
    },
    "id": "v--lxp7cq0k3",
    "outputId": "59b59f06-a61a-43f0-c335-e07e5e66eed3"
   },
   "outputs": [],
   "source": [
    "balance = 0\n",
    "#print(balance)\n",
    "\n",
    "balance = balance + 100\n",
    "#print(balance)\n",
    "\n",
    "balance = balance - 10\n",
    "#print(balance)"
   ]
  },
  {
   "cell_type": "code",
   "execution_count": 2,
   "metadata": {},
   "outputs": [],
   "source": [
    "#Data structure\n",
    "L1=[12, \"Ravi\", \"B.Tech FY\", 78.50] #list\n",
    "T1=(12, \"Ravi\", \"B.Tech FY\", 78.50)#tuple\n",
    "D1={\"Rollno\":12, \"class\":\"B.Tech FY\", \"precentage\":78.50}#dictionary\n",
    "#print (L1[2])\n",
    "#print (T1[2])\n",
    "#print (D1['class'])"
   ]
  },
  {
   "cell_type": "code",
   "execution_count": 28,
   "metadata": {},
   "outputs": [
    {
     "data": {
      "text/plain": [
       "dict_values([12, 'B.Tech FY', 78.5, 'abc.com'])"
      ]
     },
     "execution_count": 28,
     "metadata": {},
     "output_type": "execute_result"
    }
   ],
   "source": [
    "D1['mail'] = \"abc.com\"\n",
    "#print(D1)\n",
    "D1.values()"
   ]
  },
  {
   "cell_type": "code",
   "execution_count": 12,
   "metadata": {},
   "outputs": [],
   "source": [
    "list1 = [1,\"Python\",['a','e']]\n",
    "#print(list1[2])"
   ]
  },
  {
   "cell_type": "code",
   "execution_count": 26,
   "metadata": {
    "colab": {
     "base_uri": "https://localhost:8080/"
    },
    "executionInfo": {
     "elapsed": 1230,
     "status": "ok",
     "timestamp": 1618945783417,
     "user": {
      "displayName": "Sudeshna Das",
      "photoUrl": "https://lh6.googleusercontent.com/-alUhf4LVS7Y/AAAAAAAAAAI/AAAAAAAAe9U/XIIyA_juPMg/s64/photo.jpg",
      "userId": "00978114334044208284"
     },
     "user_tz": -330
    },
    "id": "cK_aKFMcrV4E",
    "outputId": "8c2baa30-f455-4d61-b643-88854e7aa3c0"
   },
   "outputs": [],
   "source": [
    "balance = 0\n",
    "\n",
    "def deposit(balance, amount):\n",
    "    balance = balance + amount\n",
    "    return balance\n",
    "\n",
    "def withdraw(balance, amount):\n",
    "    balance = balance - amount\n",
    "    return balance\n",
    "\n",
    "#print(balance)\n",
    "\n",
    "balance = deposit(balance,100)\n",
    "#print(balance)\n",
    "\n",
    "balance = withdraw(balance,10)\n",
    "#print(balance)"
   ]
  },
  {
   "cell_type": "code",
   "execution_count": 27,
   "metadata": {
    "colab": {
     "base_uri": "https://localhost:8080/"
    },
    "executionInfo": {
     "elapsed": 1466,
     "status": "ok",
     "timestamp": 1618945804818,
     "user": {
      "displayName": "Sudeshna Das",
      "photoUrl": "https://lh6.googleusercontent.com/-alUhf4LVS7Y/AAAAAAAAAAI/AAAAAAAAe9U/XIIyA_juPMg/s64/photo.jpg",
      "userId": "00978114334044208284"
     },
     "user_tz": -330
    },
    "id": "6F0y45JysGMB",
    "outputId": "78afdd25-6bba-42d5-dfe6-c13c5e3ea375"
   },
   "outputs": [],
   "source": [
    "balance = 100\n",
    "\n",
    "def deposit(balance, amount):\n",
    "  balance = balance + amount\n",
    "  return balance\n",
    "\n",
    "def withdraw(balance, amount):\n",
    "  balance = balance - amount\n",
    "  return balance\n",
    "\n",
    "#print(balance)\n",
    "\n",
    "balance = withdraw(balance,10)\n",
    "#print(balance)\n",
    "\n",
    "balance = deposit(balance,100)\n",
    "#print(balance)"
   ]
  },
  {
   "cell_type": "markdown",
   "metadata": {},
   "source": [
    "## Exercise\n",
    "Write a Python program to multiply all the values in a dictionary without using in-built function."
   ]
  },
  {
   "cell_type": "code",
   "execution_count": 30,
   "metadata": {},
   "outputs": [],
   "source": [
    "dict1 = {'a': 100, 'b':200, 'c':300}"
   ]
  },
  {
   "cell_type": "code",
   "execution_count": 31,
   "metadata": {},
   "outputs": [
    {
     "name": "stdout",
     "output_type": "stream",
     "text": [
      "6000000\n"
     ]
    }
   ],
   "source": [
    "def do_add(dict1):\n",
    "\n",
    "    sum = 1\n",
    "\n",
    "    for x in dict1.values():\n",
    "\n",
    "        sum *= x\n",
    "\n",
    "    return sum\n",
    "\n",
    "print(do_add(dict1))"
   ]
  },
  {
   "cell_type": "markdown",
   "metadata": {
    "id": "HFmiq2rRRP9a"
   },
   "source": [
    "### Object-oriented Programming\n",
    "- Everything is an object (an abstract data type):\n",
    "  - state: attributes or instance variables\n",
    "  - behaviour: methods (what you do with the state)\n",
    "\n",
    "- A program is a set of interacting objects"
   ]
  },
  {
   "cell_type": "code",
   "execution_count": 33,
   "metadata": {
    "colab": {
     "base_uri": "https://localhost:8080/"
    },
    "executionInfo": {
     "elapsed": 3438,
     "status": "ok",
     "timestamp": 1618943176854,
     "user": {
      "displayName": "Sudeshna Das",
      "photoUrl": "https://lh6.googleusercontent.com/-alUhf4LVS7Y/AAAAAAAAAAI/AAAAAAAAe9U/XIIyA_juPMg/s64/photo.jpg",
      "userId": "00978114334044208284"
     },
     "user_tz": -330
    },
    "id": "vwXVjLjSgxpJ",
    "outputId": "157707a7-30f1-4340-d8f2-2bb7906fe445"
   },
   "outputs": [],
   "source": [
    "class Account:\n",
    "\n",
    "    def __init__(self): # constructor\n",
    "        self.balance = 10 # instance variable\n",
    "  \n",
    "    def check_balance(self): # method\n",
    "        return self.balance\n",
    "\n",
    "    def deposit(self, amount):\n",
    "        self.balance = self.balance + amount\n",
    "        return self.balance\n",
    "\n",
    "    def withdraw(self, amount):\n",
    "        self.balance = self.balance - amount\n",
    "        return self.balance\n",
    "  \n",
    "account1 = Account() # instance (`self`) is passed automatically\n",
    "#print(account1.check_balance())\n",
    "#print(account1.deposit(100))\n",
    "#print(account1.withdraw(10))"
   ]
  },
  {
   "cell_type": "code",
   "execution_count": 16,
   "metadata": {
    "colab": {
     "base_uri": "https://localhost:8080/"
    },
    "executionInfo": {
     "elapsed": 1520,
     "status": "ok",
     "timestamp": 1618945867674,
     "user": {
      "displayName": "Sudeshna Das",
      "photoUrl": "https://lh6.googleusercontent.com/-alUhf4LVS7Y/AAAAAAAAAAI/AAAAAAAAe9U/XIIyA_juPMg/s64/photo.jpg",
      "userId": "00978114334044208284"
     },
     "user_tz": -330
    },
    "id": "agngRixPsTfQ",
    "outputId": "120e9c29-bcb8-4b6d-83f9-c002b0578747"
   },
   "outputs": [],
   "source": [
    "account2 = Account() # instance (`self`) is passed automatically\n",
    "#print(account2.check_balance())\n",
    "#print(account2.withdraw(10))\n",
    "#print(account2.deposit(100))"
   ]
  },
  {
   "cell_type": "markdown",
   "metadata": {
    "id": "NXABgxIgRSgj"
   },
   "source": [
    "### Functional Programming\n",
    "\n",
    "- Functions/expressions instead of instructions\n",
    "- A program consists entirely of evaluation of pure functions\n",
    "  - stateless\n",
    "    - state information is not stored\n",
    "    - the output depends only on the input\n",
    "  - arguments are immutable: incoming data is not mutated\n",
    "- Easy to debugging\n",
    "\n",
    "\n",
    "### Python Recursion\n",
    "\n",
    "\n"
   ]
  },
  {
   "cell_type": "code",
   "execution_count": 34,
   "metadata": {},
   "outputs": [
    {
     "name": "stdout",
     "output_type": "stream",
     "text": [
      "102334155\n",
      "CPU times: user 40.6 s, sys: 0 ns, total: 40.6 s\n",
      "Wall time: 40.6 s\n"
     ]
    }
   ],
   "source": [
    "%%time\n",
    "# Python program to display the Fibonacci nth term\n",
    "\n",
    "def recur_fibo(n):\n",
    "   if n <= 1:\n",
    "       return n\n",
    "   else:\n",
    "       return(recur_fibo(n-1) + recur_fibo(n-2))\n",
    "\n",
    "#nterms = 10\n",
    "\n",
    "# check if the number of terms is valid\n",
    "'''if nterms <= 0:\n",
    "   print(\"Plese enter a positive integer\")\n",
    "else:\n",
    "   print(\"Fibonacci sequence:\")\n",
    "   for i in range(nterms):'''\n",
    "print(recur_fibo(40))\n"
   ]
  },
  {
   "cell_type": "code",
   "execution_count": 7,
   "metadata": {},
   "outputs": [
    {
     "name": "stdout",
     "output_type": "stream",
     "text": [
      "Fibonacci( 100 )=  354224848179261915075\n",
      "CPU times: user 783 µs, sys: 96 µs, total: 879 µs\n",
      "Wall time: 908 µs\n"
     ]
    }
   ],
   "source": [
    "%%time\n",
    "Dict={0:0, 1:1}\n",
    "def fibo(n):\n",
    "    if n not in Dict:\n",
    "        val=fibo(n-1)+fibo(n-2)\n",
    "        Dict[n]=val\n",
    "    return Dict[n]\n",
    "n=100\n",
    "print(\"Fibonacci(\", n,\")= \", fibo(n))"
   ]
  },
  {
   "cell_type": "markdown",
   "metadata": {},
   "source": [
    "### In-built functions for functional programming in python"
   ]
  },
  {
   "cell_type": "code",
   "execution_count": 9,
   "metadata": {},
   "outputs": [],
   "source": [
    "list2 = [100,1000,10000]"
   ]
  },
  {
   "cell_type": "code",
   "execution_count": 10,
   "metadata": {},
   "outputs": [
    {
     "data": {
      "text/plain": [
       "11100"
      ]
     },
     "execution_count": 10,
     "metadata": {},
     "output_type": "execute_result"
    }
   ],
   "source": [
    "sum(list2)"
   ]
  },
  {
   "cell_type": "markdown",
   "metadata": {},
   "source": [
    "#### Lambda\n",
    "- A lambda function can take any number of arguments, but can only have one expression.\n",
    "\n",
    "- syntax: `lambda parameter_list: expression`"
   ]
  },
  {
   "cell_type": "code",
   "execution_count": 51,
   "metadata": {
    "colab": {
     "base_uri": "https://localhost:8080/"
    },
    "executionInfo": {
     "elapsed": 1901,
     "status": "ok",
     "timestamp": 1618951719742,
     "user": {
      "displayName": "Sudeshna Das",
      "photoUrl": "https://lh6.googleusercontent.com/-alUhf4LVS7Y/AAAAAAAAAAI/AAAAAAAAe9U/XIIyA_juPMg/s64/photo.jpg",
      "userId": "00978114334044208284"
     },
     "user_tz": -330
    },
    "id": "3TVqvJdy1tiZ",
    "outputId": "6da9d926-f1f2-46a2-f928-1ed06eb19d2f"
   },
   "outputs": [
    {
     "name": "stdout",
     "output_type": "stream",
     "text": [
      "25\n"
     ]
    }
   ],
   "source": [
    "square = lambda x: x*x\n",
    "\n",
    "print(square(5))"
   ]
  },
  {
   "cell_type": "markdown",
   "metadata": {
    "id": "3XE1a1zODebl"
   },
   "source": [
    "> square(5)\n",
    "\n",
    "> lambda 5\n",
    "\n",
    "> 5 * 5"
   ]
  },
  {
   "cell_type": "code",
   "execution_count": 16,
   "metadata": {
    "colab": {
     "base_uri": "https://localhost:8080/"
    },
    "executionInfo": {
     "elapsed": 935,
     "status": "ok",
     "timestamp": 1618952285778,
     "user": {
      "displayName": "Sudeshna Das",
      "photoUrl": "https://lh6.googleusercontent.com/-alUhf4LVS7Y/AAAAAAAAAAI/AAAAAAAAe9U/XIIyA_juPMg/s64/photo.jpg",
      "userId": "00978114334044208284"
     },
     "user_tz": -330
    },
    "id": "10eF1yqEYFDS",
    "outputId": "35c79209-3965-41c3-d9e6-b28739d8611c"
   },
   "outputs": [
    {
     "name": "stdout",
     "output_type": "stream",
     "text": [
      "3\n"
     ]
    }
   ],
   "source": [
    "#two arguments\n",
    "sum1 = lambda a,b: a+b\n",
    "print(sum1(1,2))\n"
   ]
  },
  {
   "cell_type": "code",
   "execution_count": 23,
   "metadata": {},
   "outputs": [
    {
     "name": "stdout",
     "output_type": "stream",
     "text": [
      "60\n"
     ]
    }
   ],
   "source": [
    "multi =lambda a, b, c : a * b * c\n",
    "print(multi(5, 2, 6))\n"
   ]
  },
  {
   "cell_type": "code",
   "execution_count": 22,
   "metadata": {},
   "outputs": [
    {
     "name": "stdout",
     "output_type": "stream",
     "text": [
      "Hello World!\n"
     ]
    }
   ],
   "source": [
    "message = lambda: print(\"Hello World!\")\n",
    " \n",
    "message()"
   ]
  },
  {
   "cell_type": "code",
   "execution_count": 35,
   "metadata": {},
   "outputs": [
    {
     "data": {
      "text/plain": [
       "'gnirts a ma I'"
      ]
     },
     "execution_count": 35,
     "metadata": {},
     "output_type": "execute_result"
    }
   ],
   "source": [
    "reverse = (lambda s: s[::-1])(\"I am a string\")\n",
    "reverse"
   ]
  },
  {
   "cell_type": "markdown",
   "metadata": {
    "id": "3fXLQ6_DF50-"
   },
   "source": [
    "\n",
    "\n",
    "\n",
    "- `filter`\n",
    "- `map`\n",
    "- `reduce`\n",
    "\n",
    "#### `filter`\n",
    "- `filter (function, iterable) --> iterator`\n",
    "- apply `function` to each item in the iterable\n",
    "- if the result is true, append the result to the iterator"
   ]
  },
  {
   "cell_type": "code",
   "execution_count": 21,
   "metadata": {
    "colab": {
     "base_uri": "https://localhost:8080/"
    },
    "executionInfo": {
     "elapsed": 1508,
     "status": "ok",
     "timestamp": 1618957287863,
     "user": {
      "displayName": "Sudeshna Das",
      "photoUrl": "https://lh6.googleusercontent.com/-alUhf4LVS7Y/AAAAAAAAAAI/AAAAAAAAe9U/XIIyA_juPMg/s64/photo.jpg",
      "userId": "00978114334044208284"
     },
     "user_tz": -330
    },
    "id": "eg7Jj5jvMUeD",
    "outputId": "2a159886-bfd0-4844-ed40-7db70ed133bc"
   },
   "outputs": [
    {
     "name": "stdout",
     "output_type": "stream",
     "text": [
      "[1, 3, 5]\n"
     ]
    }
   ],
   "source": [
    "numbers = [1,2,3,4,5]\n",
    "oddnums = filter(lambda x: x%2 ==1, numbers)\n",
    "print(list(oddnums))#output always from the list"
   ]
  },
  {
   "cell_type": "code",
   "execution_count": 40,
   "metadata": {},
   "outputs": [
    {
     "data": {
      "text/plain": [
       "[1, 3, 5]"
      ]
     },
     "execution_count": 40,
     "metadata": {},
     "output_type": "execute_result"
    }
   ],
   "source": [
    "def odd_num(x):\n",
    "    return x % 2 == 1\n",
    "list(filter(odd_num, numbers))"
   ]
  },
  {
   "cell_type": "markdown",
   "metadata": {
    "id": "bnf4UDo5XEWv"
   },
   "source": [
    "#### `map`\n",
    "- `map (function, iterable [,iterable 2, ..., iterable n]) --> iterator`\n",
    "- apply `function` to each item in each iterable, append the result tuples to the iterator"
   ]
  },
  {
   "cell_type": "code",
   "execution_count": 46,
   "metadata": {
    "colab": {
     "base_uri": "https://localhost:8080/"
    },
    "executionInfo": {
     "elapsed": 1937,
     "status": "ok",
     "timestamp": 1618958044124,
     "user": {
      "displayName": "Sudeshna Das",
      "photoUrl": "https://lh6.googleusercontent.com/-alUhf4LVS7Y/AAAAAAAAAAI/AAAAAAAAe9U/XIIyA_juPMg/s64/photo.jpg",
      "userId": "00978114334044208284"
     },
     "user_tz": -330
    },
    "id": "-leiMnFNXLts",
    "outputId": "43954f63-354a-486a-ecbc-d24ea91e4d16"
   },
   "outputs": [
    {
     "name": "stdout",
     "output_type": "stream",
     "text": [
      "[2, 3, 4, 5, 6]\n"
     ]
    }
   ],
   "source": [
    "numbers = [1,2,3,4,5]\n",
    "results = map(lambda x: x+1, numbers)\n",
    "print(list(results))"
   ]
  },
  {
   "cell_type": "code",
   "execution_count": 70,
   "metadata": {
    "colab": {
     "base_uri": "https://localhost:8080/"
    },
    "executionInfo": {
     "elapsed": 1150,
     "status": "ok",
     "timestamp": 1618958089068,
     "user": {
      "displayName": "Sudeshna Das",
      "photoUrl": "https://lh6.googleusercontent.com/-alUhf4LVS7Y/AAAAAAAAAAI/AAAAAAAAe9U/XIIyA_juPMg/s64/photo.jpg",
      "userId": "00978114334044208284"
     },
     "user_tz": -330
    },
    "id": "e3J9WCQba1i6",
    "outputId": "a13acb4b-2765-4b94-9427-5d61d6d23f5c"
   },
   "outputs": [
    {
     "name": "stdout",
     "output_type": "stream",
     "text": [
      "[5, 8, 9, 8, 5]\n"
     ]
    }
   ],
   "source": [
    "num1 = [1,2,3,4,5]\n",
    "num2 = [5,4,3,2,1]\n",
    "results = map(lambda x,y: x*y, num1, num2)\n",
    "print(list(results))"
   ]
  },
  {
   "cell_type": "code",
   "execution_count": 71,
   "metadata": {
    "colab": {
     "base_uri": "https://localhost:8080/"
    },
    "executionInfo": {
     "elapsed": 1638,
     "status": "ok",
     "timestamp": 1618958153912,
     "user": {
      "displayName": "Sudeshna Das",
      "photoUrl": "https://lh6.googleusercontent.com/-alUhf4LVS7Y/AAAAAAAAAAI/AAAAAAAAe9U/XIIyA_juPMg/s64/photo.jpg",
      "userId": "00978114334044208284"
     },
     "user_tz": -330
    },
    "id": "a1R1kVUmbECl",
    "outputId": "7c20678b-9078-427f-beb4-29d4751cef61"
   },
   "outputs": [
    {
     "name": "stdout",
     "output_type": "stream",
     "text": [
      "[11, 18, 27]\n"
     ]
    }
   ],
   "source": [
    "num1 = [1,2,3]\n",
    "num2 = [4,5,6]\n",
    "num3 = [7,8,9]\n",
    "results = map(lambda x,y,z: x*y+z, num1, num2, num3)\n",
    "print(list(results))"
   ]
  },
  {
   "cell_type": "code",
   "execution_count": 28,
   "metadata": {},
   "outputs": [
    {
     "name": "stdout",
     "output_type": "stream",
     "text": [
      "[0, 1, 4, 9, 16, 25, 36, 49, 64, 81]\n"
     ]
    }
   ],
   "source": [
    "squares1 = []\n",
    "for x in range(10):\n",
    "    squares1.append(x**2)\n",
    "\n",
    "print(squares1)\n",
    "squares1.remove(9)\n",
    "#squares1.clear()\n",
    "#print(squares1)\n",
    "#print(squares1.count(16))\n",
    "#print(len(squares1))"
   ]
  },
  {
   "cell_type": "markdown",
   "metadata": {},
   "source": [
    "Exercise: Print the above list using 'map' and 'lamda'"
   ]
  },
  {
   "cell_type": "code",
   "execution_count": 29,
   "metadata": {},
   "outputs": [
    {
     "data": {
      "text/plain": [
       "[0, 1, 4, 9, 16, 25, 36, 49, 64, 81]"
      ]
     },
     "execution_count": 29,
     "metadata": {},
     "output_type": "execute_result"
    }
   ],
   "source": [
    "squares2 = list(map(lambda x: x**2, range(10)))\n",
    "squares2"
   ]
  },
  {
   "cell_type": "markdown",
   "metadata": {
    "id": "Jq3EOjzVXMAv"
   },
   "source": [
    "#### `reduce`\n",
    "- `reduce (function, iterable, initializer = None) --> value`\n",
    "- go through iterable, apply function, and produce final reduced value"
   ]
  },
  {
   "cell_type": "code",
   "execution_count": 48,
   "metadata": {
    "colab": {
     "base_uri": "https://localhost:8080/"
    },
    "executionInfo": {
     "elapsed": 1501,
     "status": "ok",
     "timestamp": 1618958941758,
     "user": {
      "displayName": "Sudeshna Das",
      "photoUrl": "https://lh6.googleusercontent.com/-alUhf4LVS7Y/AAAAAAAAAAI/AAAAAAAAe9U/XIIyA_juPMg/s64/photo.jpg",
      "userId": "00978114334044208284"
     },
     "user_tz": -330
    },
    "id": "5e4lHCpvXM4Q",
    "outputId": "452fe6ba-8e4f-45ec-8db8-fe50bf8e321e"
   },
   "outputs": [
    {
     "name": "stdout",
     "output_type": "stream",
     "text": [
      "28\n"
     ]
    }
   ],
   "source": [
    "from functools import reduce #python3\n",
    "\n",
    "numbers = [1,2,3,4,5,6,7]\n",
    "sum = reduce(lambda acc,x: acc + x, numbers)\n",
    "print(sum)"
   ]
  },
  {
   "cell_type": "code",
   "execution_count": 49,
   "metadata": {
    "colab": {
     "base_uri": "https://localhost:8080/"
    },
    "executionInfo": {
     "elapsed": 1397,
     "status": "ok",
     "timestamp": 1618959121705,
     "user": {
      "displayName": "Sudeshna Das",
      "photoUrl": "https://lh6.googleusercontent.com/-alUhf4LVS7Y/AAAAAAAAAAI/AAAAAAAAe9U/XIIyA_juPMg/s64/photo.jpg",
      "userId": "00978114334044208284"
     },
     "user_tz": -330
    },
    "id": "_7PdQcSmeS7s",
    "outputId": "730b0ec6-0e1f-4117-bea3-ef8b9c8bc8be"
   },
   "outputs": [
    {
     "name": "stdout",
     "output_type": "stream",
     "text": [
      "5040\n"
     ]
    }
   ],
   "source": [
    "numbers = [1,2,3,4,5,6,7]\n",
    "product = reduce(lambda acc,x: acc * x, numbers)\n",
    "print(product)\n"
   ]
  },
  {
   "cell_type": "code",
   "execution_count": 50,
   "metadata": {},
   "outputs": [
    {
     "data": {
      "text/plain": [
       "15"
      ]
     },
     "execution_count": 50,
     "metadata": {},
     "output_type": "execute_result"
    }
   ],
   "source": [
    "def f(x, y):\n",
    "    return x + y\n",
    "reduce(f, [1, 2, 3, 4, 5])"
   ]
  },
  {
   "cell_type": "code",
   "execution_count": 16,
   "metadata": {},
   "outputs": [
    {
     "name": "stdout",
     "output_type": "stream",
     "text": [
      "1030300\n"
     ]
    }
   ],
   "source": [
    "#Another Procedural Programming\n",
    "\n",
    "starting_number = 10\n",
    "\n",
    "# get the square of the number\n",
    "square = starting_number ** 2\n",
    "\n",
    "# increment the number by 1\n",
    "increment = square + 1\n",
    "\n",
    "# cube of the number\n",
    "cube = increment ** 3\n",
    "\n",
    "# decrease the cube by 1\n",
    "decrement = cube - 1\n",
    "\n",
    "# get the final result\n",
    "print(decrement)"
   ]
  },
  {
   "cell_type": "markdown",
   "metadata": {},
   "source": [
    "### Exercise: Transfer from Procedural language to functional programming using above inbuilt function"
   ]
  },
  {
   "cell_type": "code",
   "execution_count": 18,
   "metadata": {},
   "outputs": [
    {
     "name": "stdout",
     "output_type": "stream",
     "text": [
      "1030300\n"
     ]
    }
   ],
   "source": [
    "# define a function `call` where you provide the function and the arguments\n",
    "def call(x, f):\n",
    "    return f(x)\n",
    "\n",
    "# define a function that returns the square\n",
    "square = lambda x : x*x\n",
    "\n",
    "# define a function that returns the increment\n",
    "increment = lambda x : x+1\n",
    "\n",
    "# define a function that returns the cube\n",
    "cube = lambda x : x*x*x\n",
    "\n",
    "# define a function that returns the decrement\n",
    "decrement = lambda x : x-1\n",
    "# put all the functions in a list in the order that you want to execute them\n",
    "funcs = [square, increment, cube, decrement]\n",
    "\n",
    "# bring it all together. Below is the non functional part. \n",
    "# in functional programming you separate the functional and the non functional parts.\n",
    "from functools import reduce # reduce is in the functools library\n",
    "print(reduce(call, funcs, 10)) \n"
   ]
  },
  {
   "cell_type": "code",
   "execution_count": 53,
   "metadata": {},
   "outputs": [
    {
     "data": {
      "text/plain": [
       "'A = [[12, 7, 3],\\n    [4, 5, 6],\\n    [7, 8, 9]]\\n \\n# take a 3x4 matrix   \\nB = [[5, 8, 1, 2],\\n    [6, 7, 3, 0],\\n    [4, 5, 9, 1]]\\n     \\nresult = [[0, 0, 0, 0],\\n        [0, 0, 0, 0],\\n        [0, 0, 0, 0]]\\n \\n# iterating by row of A\\nfor i in range(len(A)):\\n \\n    # iterating by column by B\\n    for j in range(len(B[0])):\\n \\n        # iterating by rows of B\\n        for k in range(len(B)):\\n            result[i][j] += A[i][k] * B[k][j]\\n \\nfor r in result:\\n    print(r)\\nlen(B[0])'"
      ]
     },
     "execution_count": 53,
     "metadata": {},
     "output_type": "execute_result"
    }
   ],
   "source": [
    "'''A = [[12, 7, 3],\n",
    "    [4, 5, 6],\n",
    "    [7, 8, 9]]\n",
    " \n",
    "# take a 3x4 matrix   \n",
    "B = [[5, 8, 1, 2],\n",
    "    [6, 7, 3, 0],\n",
    "    [4, 5, 9, 1]]\n",
    "     \n",
    "result = [[0, 0, 0, 0],\n",
    "        [0, 0, 0, 0],\n",
    "        [0, 0, 0, 0]]\n",
    " \n",
    "# iterating by row of A\n",
    "for i in range(len(A)):\n",
    " \n",
    "    # iterating by column by B\n",
    "    for j in range(len(B[0])):\n",
    " \n",
    "        # iterating by rows of B\n",
    "        for k in range(len(B)):\n",
    "            result[i][j] += A[i][k] * B[k][j]\n",
    " \n",
    "for r in result:\n",
    "    print(r)\n",
    "len(B[0])'''"
   ]
  },
  {
   "cell_type": "code",
   "execution_count": 54,
   "metadata": {},
   "outputs": [
    {
     "data": {
      "text/plain": [
       "'A = [[12, 7, 3],\\n    [4, 5, 6],\\n    [7, 8, 9]]\\n \\n# take a 3x4 matrix\\nB = [[5, 8, 1, 2],\\n    [6, 7, 3, 0],\\n    [4, 5, 9, 1]]\\n \\n# result will be 3x4\\nresult = [[sum(a * b for a, b in zip(A_row, B_col))\\n                        for B_col in zip(*B)]\\n                                for A_row in A]\\n \\nfor r in result:\\n    print(r)'"
      ]
     },
     "execution_count": 54,
     "metadata": {},
     "output_type": "execute_result"
    }
   ],
   "source": [
    "'''A = [[12, 7, 3],\n",
    "    [4, 5, 6],\n",
    "    [7, 8, 9]]\n",
    " \n",
    "# take a 3x4 matrix\n",
    "B = [[5, 8, 1, 2],\n",
    "    [6, 7, 3, 0],\n",
    "    [4, 5, 9, 1]]\n",
    " \n",
    "# result will be 3x4\n",
    "result = [[sum(a * b for a, b in zip(A_row, B_col))\n",
    "                        for B_col in zip(*B)]\n",
    "                                for A_row in A]\n",
    " \n",
    "for r in result:\n",
    "    print(r)'''"
   ]
  },
  {
   "cell_type": "code",
   "execution_count": 9,
   "metadata": {},
   "outputs": [
    {
     "name": "stdout",
     "output_type": "stream",
     "text": [
      "[[114 160  60  27]\n",
      " [ 74  97  73  14]\n",
      " [119 157 112  23]]\n",
      "[[114 160  60  27]\n",
      " [ 74  97  73  14]\n",
      " [119 157 112  23]]\n"
     ]
    }
   ],
   "source": [
    "import numpy as np\n",
    "# two dimensional arrays\n",
    "m1 = np.array([[12, 7, 3],\n",
    "               [4, 5, 6],\n",
    "               [7, 8, 9]])\n",
    "m2 = np.array([[5, 8, 1, 2],\n",
    "              [6, 7, 3, 0],\n",
    "              [4, 5, 9, 1]])\n",
    "m3 = np.dot(m1,m2) \n",
    "m31 = m1@m2\n",
    "print(m3)\n",
    "print(m31)"
   ]
  },
  {
   "cell_type": "markdown",
   "metadata": {},
   "source": [
    "**References:**\n",
    "1. [Programming paradigms supported by different languages](https://en.wikipedia.org/wiki/Comparison_of_multi-paradigm_programming_languages#Language_overview)\n",
    "\n",
    "2. [Comparison of programming paradigms](https://www.cs.ucf.edu/~leavens/ComS541Fall97/hw-pages/paradigms/major.html)\n",
    "\n",
    "3. [Numpy](https://numpy.org/)"
   ]
  },
  {
   "cell_type": "code",
   "execution_count": null,
   "metadata": {},
   "outputs": [],
   "source": [
    "\n"
   ]
  },
  {
   "cell_type": "code",
   "execution_count": null,
   "metadata": {},
   "outputs": [],
   "source": []
  }
 ],
 "metadata": {
  "colab": {
   "authorship_tag": "ABX9TyPNcYqicgg8GYba98EsNG6k",
   "collapsed_sections": [],
   "name": "python-tutorial2.ipynb",
   "provenance": []
  },
  "kernelspec": {
   "display_name": "Python 3",
   "language": "python",
   "name": "python3"
  },
  "language_info": {
   "codemirror_mode": {
    "name": "ipython",
    "version": 3
   },
   "file_extension": ".py",
   "mimetype": "text/x-python",
   "name": "python",
   "nbconvert_exporter": "python",
   "pygments_lexer": "ipython3",
   "version": "3.8.5"
  }
 },
 "nbformat": 4,
 "nbformat_minor": 1
}
